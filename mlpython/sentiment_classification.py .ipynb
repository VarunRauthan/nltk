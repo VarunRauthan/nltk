{
 "cells": [
  {
   "cell_type": "code",
   "execution_count": 2,
   "metadata": {},
   "outputs": [],
   "source": [
    "#https://marcobonzanini.com/2015/01/19/sentiment-analysis-with-python-and-scikit-learn/\n",
    "#https://gist.github.com/bonzanini/c9248a239bbab0e0d42e"
   ]
  },
  {
   "cell_type": "code",
   "execution_count": 3,
   "metadata": {},
   "outputs": [],
   "source": [
    "import sys\n",
    "import os\n",
    "import time"
   ]
  },
  {
   "cell_type": "code",
   "execution_count": 4,
   "metadata": {},
   "outputs": [],
   "source": [
    "from sklearn.feature_extraction.text import TfidfVectorizer\n",
    "from sklearn import svm\n",
    "from sklearn.metrics import classification_report\n"
   ]
  },
  {
   "cell_type": "code",
   "execution_count": 5,
   "metadata": {},
   "outputs": [],
   "source": [
    "data_dir = [\"./data/txt_sentoken/\",\"./data/aclImdb_v1/train/\",\"./data/aclImdb_v1/test/\"]"
   ]
  },
  {
   "cell_type": "code",
   "execution_count": 6,
   "metadata": {},
   "outputs": [],
   "source": [
    "classes = ['pos', 'neg']\n",
    "\n",
    "    # Read the data\n",
    "train_data = []\n",
    "train_labels = []\n",
    "test_data = []\n",
    "test_labels = []"
   ]
  },
  {
   "cell_type": "code",
   "execution_count": 7,
   "metadata": {},
   "outputs": [],
   "source": [
    "for curr_class in classes:\n",
    "        for dir in data_dir:\n",
    "            dirname = os.path.join(dir, curr_class)\n",
    "            for fname in os.listdir(dirname):\n",
    "                with open(os.path.join(dirname, fname), 'r') as f:\n",
    "                    content = f.read()\n",
    "                    if fname.startswith('cv9'):\n",
    "                        test_data.append(content)\n",
    "                        test_labels.append(curr_class)\n",
    "                    else:\n",
    "                        train_data.append(content)\n",
    "                        train_labels.append(curr_class)\n",
    "\n",
    "# Create feature vectors\n",
    "vectorizer = TfidfVectorizer(min_df=5,\n",
    "                                 max_df = 0.8,\n",
    "                                 sublinear_tf=True,\n",
    "                                 use_idf=True)\n",
    "train_vectors = vectorizer.fit_transform(train_data)\n",
    "test_vectors = vectorizer.transform(test_data)"
   ]
  },
  {
   "cell_type": "code",
   "execution_count": 8,
   "metadata": {},
   "outputs": [],
   "source": [
    "# Perform classification with SVM, kernel=rbf\n",
    "classifier_rbf = svm.SVC()\n",
    "t0 = time.time()\n",
    "classifier_rbf.fit(train_vectors, train_labels)\n",
    "t1 = time.time()\n",
    "prediction_rbf = classifier_rbf.predict(test_vectors)\n",
    "t2 = time.time()\n",
    "time_rbf_train = t1-t0\n",
    "time_rbf_predict = t2-t1\n",
    "\n",
    "# Perform classification with SVM, kernel=linear\n",
    "classifier_linear = svm.SVC(kernel='linear')\n",
    "t0 = time.time()\n",
    "classifier_linear.fit(train_vectors, train_labels)\n",
    "t1 = time.time()\n",
    "prediction_linear = classifier_linear.predict(test_vectors)\n",
    "t2 = time.time()\n",
    "time_linear_train = t1-t0\n",
    "time_linear_predict = t2-t1\n",
    "\n",
    "# Perform classification with SVM, kernel=linear\n",
    "classifier_liblinear = svm.LinearSVC()\n",
    "t0 = time.time()\n",
    "classifier_liblinear.fit(train_vectors, train_labels)\n",
    "t1 = time.time()\n",
    "prediction_liblinear = classifier_liblinear.predict(test_vectors)\n",
    "t2 = time.time()\n",
    "time_liblinear_train = t1-t0\n",
    "time_liblinear_predict = t2-t1"
   ]
  },
  {
   "cell_type": "code",
   "execution_count": 9,
   "metadata": {},
   "outputs": [
    {
     "name": "stdout",
     "output_type": "stream",
     "text": [
      "Results for SVC(kernel=rbf)\n",
      "Training time: 2116.871869s; Prediction time: 11.698378s\n",
      "             precision    recall  f1-score   support\n",
      "\n",
      "        neg       0.50      1.00      0.67       100\n",
      "        pos       0.00      0.00      0.00       100\n",
      "\n",
      "avg / total       0.25      0.50      0.33       200\n",
      "\n",
      "Results for SVC(kernel=linear)\n",
      "Training time: 1855.812136s; Prediction time: 4.933268s\n",
      "             precision    recall  f1-score   support\n",
      "\n",
      "        neg       0.93      0.95      0.94       100\n",
      "        pos       0.95      0.93      0.94       100\n",
      "\n",
      "avg / total       0.94      0.94      0.94       200\n",
      "\n",
      "Results for LinearSVC()\n",
      "Training time: 0.920675s; Prediction time: 0.000388s\n",
      "             precision    recall  f1-score   support\n",
      "\n",
      "        neg       0.92      0.96      0.94       100\n",
      "        pos       0.96      0.92      0.94       100\n",
      "\n",
      "avg / total       0.94      0.94      0.94       200\n",
      "\n"
     ]
    },
    {
     "name": "stderr",
     "output_type": "stream",
     "text": [
      "/usr/local/lib/python3.6/dist-packages/sklearn/metrics/classification.py:1135: UndefinedMetricWarning: Precision and F-score are ill-defined and being set to 0.0 in labels with no predicted samples.\n",
      "  'precision', 'predicted', average, warn_for)\n"
     ]
    }
   ],
   "source": [
    "# Print results in a nice table\n",
    "print(\"Results for SVC(kernel=rbf)\")\n",
    "print(\"Training time: %fs; Prediction time: %fs\" % (time_rbf_train, time_rbf_predict))\n",
    "print(classification_report(test_labels, prediction_rbf))\n",
    "print(\"Results for SVC(kernel=linear)\")\n",
    "print(\"Training time: %fs; Prediction time: %fs\" % (time_linear_train, time_linear_predict))\n",
    "print(classification_report(test_labels, prediction_linear))\n",
    "print(\"Results for LinearSVC()\")\n",
    "print(\"Training time: %fs; Prediction time: %fs\" % (time_liblinear_train, time_liblinear_predict))\n",
    "print(classification_report(test_labels, prediction_liblinear))"
   ]
  },
  {
   "cell_type": "code",
   "execution_count": 10,
   "metadata": {},
   "outputs": [
    {
     "name": "stdout",
     "output_type": "stream",
     "text": [
      "Results for SVC(kernel=rbf)\n",
      "Training time: 2116.871869s; Prediction time: 11.698378s\n",
      "             precision    recall  f1-score   support\n",
      "\n",
      "        neg       0.50      1.00      0.67       100\n",
      "        pos       0.00      0.00      0.00       100\n",
      "\n",
      "avg / total       0.25      0.50      0.33       200\n",
      "\n",
      "Results for SVC(kernel=linear)\n",
      "Training time: 1855.812136s; Prediction time: 4.933268s\n",
      "             precision    recall  f1-score   support\n",
      "\n",
      "        neg       0.93      0.95      0.94       100\n",
      "        pos       0.95      0.93      0.94       100\n",
      "\n",
      "avg / total       0.94      0.94      0.94       200\n",
      "\n",
      "Results for LinearSVC()\n",
      "Training time: 0.920675s; Prediction time: 0.000388s\n",
      "             precision    recall  f1-score   support\n",
      "\n",
      "        neg       0.92      0.96      0.94       100\n",
      "        pos       0.96      0.92      0.94       100\n",
      "\n",
      "avg / total       0.94      0.94      0.94       200\n",
      "\n"
     ]
    },
    {
     "name": "stderr",
     "output_type": "stream",
     "text": [
      "/usr/local/lib/python3.6/dist-packages/sklearn/metrics/classification.py:1135: UndefinedMetricWarning: Precision and F-score are ill-defined and being set to 0.0 in labels with no predicted samples.\n",
      "  'precision', 'predicted', average, warn_for)\n"
     ]
    }
   ],
   "source": [
    "# Print results in a nice table\n",
    "print(\"Results for SVC(kernel=rbf)\")\n",
    "print(\"Training time: %fs; Prediction time: %fs\" % (time_rbf_train, time_rbf_predict))\n",
    "print(classification_report(test_labels, prediction_rbf))\n",
    "print(\"Results for SVC(kernel=linear)\")\n",
    "print(\"Training time: %fs; Prediction time: %fs\" % (time_linear_train, time_linear_predict))\n",
    "print(classification_report(test_labels, prediction_linear))\n",
    "print(\"Results for LinearSVC()\")\n",
    "print(\"Training time: %fs; Prediction time: %fs\" % (time_liblinear_train, time_liblinear_predict))\n",
    "print(classification_report(test_labels, prediction_liblinear))"
   ]
  },
  {
   "cell_type": "code",
   "execution_count": null,
   "metadata": {},
   "outputs": [],
   "source": []
  },
  {
   "cell_type": "code",
   "execution_count": null,
   "metadata": {},
   "outputs": [],
   "source": []
  },
  {
   "cell_type": "code",
   "execution_count": null,
   "metadata": {},
   "outputs": [],
   "source": []
  }
 ],
 "metadata": {
  "kernelspec": {
   "display_name": "Python 3",
   "language": "python",
   "name": "python3"
  },
  "language_info": {
   "codemirror_mode": {
    "name": "ipython",
    "version": 3
   },
   "file_extension": ".py",
   "mimetype": "text/x-python",
   "name": "python",
   "nbconvert_exporter": "python",
   "pygments_lexer": "ipython3",
   "version": "3.6.5"
  }
 },
 "nbformat": 4,
 "nbformat_minor": 2
}
